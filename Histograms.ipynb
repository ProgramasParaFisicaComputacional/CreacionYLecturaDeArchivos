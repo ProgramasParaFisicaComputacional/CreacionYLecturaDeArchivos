{
  "nbformat": 4,
  "nbformat_minor": 0,
  "metadata": {
    "colab": {
      "name": "Histograms.ipynb",
      "provenance": [],
      "mount_file_id": "15WG5dXWvM9aHemn4j-NRuKSHXLalseXu",
      "authorship_tag": "ABX9TyO9dmDpbj747eIXIZZQOZJF",
      "include_colab_link": true
    },
    "kernelspec": {
      "name": "python3",
      "display_name": "Python 3"
    },
    "language_info": {
      "name": "python"
    }
  },
  "cells": [
    {
      "cell_type": "markdown",
      "metadata": {
        "id": "view-in-github",
        "colab_type": "text"
      },
      "source": [
        "<a href=\"https://colab.research.google.com/github/ProgramasParaFisicaComputacional/CreacionYLecturaDeArchivos/blob/main/Histograms.ipynb\" target=\"_parent\"><img src=\"https://colab.research.google.com/assets/colab-badge.svg\" alt=\"Open In Colab\"/></a>"
      ]
    },
    {
      "cell_type": "code",
      "metadata": {
        "colab": {
          "base_uri": "https://localhost:8080/",
          "height": 224
        },
        "id": "9LhqDEIQ0En5",
        "outputId": "e55c28e9-e05d-4efc-9433-591bd1ec03a0"
      },
      "source": [
        "import pandas as pd\n",
        "\n",
        "#http://opendata.cern.ch/record/5201\n",
        "#particles = pd.read_csv('https://cernbox.cern.ch/index.php/s/Ak6DnRo9QhV315Y/download')\n",
        "#particles = pd.read_csv('http://opendata.cern.ch/record/5201/files/Dimuon_DoubleMu.csv')\n",
        "particles = pd.read_csv('http://opendata.cern.ch/record/5206/files/Ymumu.csv')\n",
        "particles.head()\n",
        "\n"
      ],
      "execution_count": null,
      "outputs": [
        {
          "output_type": "execute_result",
          "data": {
            "text/html": [
              "<div>\n",
              "<style scoped>\n",
              "    .dataframe tbody tr th:only-of-type {\n",
              "        vertical-align: middle;\n",
              "    }\n",
              "\n",
              "    .dataframe tbody tr th {\n",
              "        vertical-align: top;\n",
              "    }\n",
              "\n",
              "    .dataframe thead th {\n",
              "        text-align: right;\n",
              "    }\n",
              "</style>\n",
              "<table border=\"1\" class=\"dataframe\">\n",
              "  <thead>\n",
              "    <tr style=\"text-align: right;\">\n",
              "      <th></th>\n",
              "      <th>Run</th>\n",
              "      <th>Event</th>\n",
              "      <th>type1</th>\n",
              "      <th>E1</th>\n",
              "      <th>px1</th>\n",
              "      <th>py1</th>\n",
              "      <th>pz1</th>\n",
              "      <th>pt1</th>\n",
              "      <th>eta1</th>\n",
              "      <th>phi1</th>\n",
              "      <th>Q1</th>\n",
              "      <th>type2</th>\n",
              "      <th>E2</th>\n",
              "      <th>px2</th>\n",
              "      <th>py2</th>\n",
              "      <th>pz2</th>\n",
              "      <th>pt2</th>\n",
              "      <th>eta2</th>\n",
              "      <th>phi2</th>\n",
              "      <th>Q2</th>\n",
              "    </tr>\n",
              "  </thead>\n",
              "  <tbody>\n",
              "    <tr>\n",
              "      <th>0</th>\n",
              "      <td>165617</td>\n",
              "      <td>75100943</td>\n",
              "      <td>G</td>\n",
              "      <td>6.2039</td>\n",
              "      <td>-4.2666</td>\n",
              "      <td>0.4565</td>\n",
              "      <td>-4.4793</td>\n",
              "      <td>4.2910</td>\n",
              "      <td>-0.9121</td>\n",
              "      <td>3.0350</td>\n",
              "      <td>-1</td>\n",
              "      <td>G</td>\n",
              "      <td>9.6690</td>\n",
              "      <td>7.2740</td>\n",
              "      <td>-2.8211</td>\n",
              "      <td>-5.7104</td>\n",
              "      <td>7.8019</td>\n",
              "      <td>-0.6786</td>\n",
              "      <td>-0.3700</td>\n",
              "      <td>1</td>\n",
              "    </tr>\n",
              "    <tr>\n",
              "      <th>1</th>\n",
              "      <td>165617</td>\n",
              "      <td>75587682</td>\n",
              "      <td>G</td>\n",
              "      <td>19.2892</td>\n",
              "      <td>-4.2121</td>\n",
              "      <td>-0.6516</td>\n",
              "      <td>18.8121</td>\n",
              "      <td>4.2622</td>\n",
              "      <td>2.1905</td>\n",
              "      <td>-2.9881</td>\n",
              "      <td>-1</td>\n",
              "      <td>G</td>\n",
              "      <td>9.8244</td>\n",
              "      <td>4.3439</td>\n",
              "      <td>-0.4735</td>\n",
              "      <td>8.7985</td>\n",
              "      <td>4.3697</td>\n",
              "      <td>1.4497</td>\n",
              "      <td>-0.1086</td>\n",
              "      <td>1</td>\n",
              "    </tr>\n",
              "    <tr>\n",
              "      <th>2</th>\n",
              "      <td>165617</td>\n",
              "      <td>75167029</td>\n",
              "      <td>G</td>\n",
              "      <td>9.7583</td>\n",
              "      <td>2.3903</td>\n",
              "      <td>-3.7824</td>\n",
              "      <td>8.6715</td>\n",
              "      <td>4.4744</td>\n",
              "      <td>1.4156</td>\n",
              "      <td>-1.0072</td>\n",
              "      <td>-1</td>\n",
              "      <td>G</td>\n",
              "      <td>13.5684</td>\n",
              "      <td>-3.3975</td>\n",
              "      <td>5.1910</td>\n",
              "      <td>12.0665</td>\n",
              "      <td>6.2039</td>\n",
              "      <td>1.4187</td>\n",
              "      <td>2.1503</td>\n",
              "      <td>1</td>\n",
              "    </tr>\n",
              "    <tr>\n",
              "      <th>3</th>\n",
              "      <td>165617</td>\n",
              "      <td>75281957</td>\n",
              "      <td>G</td>\n",
              "      <td>9.6365</td>\n",
              "      <td>1.6516</td>\n",
              "      <td>-5.4313</td>\n",
              "      <td>7.7862</td>\n",
              "      <td>5.6769</td>\n",
              "      <td>1.1213</td>\n",
              "      <td>-1.2756</td>\n",
              "      <td>1</td>\n",
              "      <td>G</td>\n",
              "      <td>7.0263</td>\n",
              "      <td>-1.6449</td>\n",
              "      <td>4.4418</td>\n",
              "      <td>5.1887</td>\n",
              "      <td>4.7366</td>\n",
              "      <td>0.9473</td>\n",
              "      <td>1.9255</td>\n",
              "      <td>-1</td>\n",
              "    </tr>\n",
              "    <tr>\n",
              "      <th>4</th>\n",
              "      <td>165617</td>\n",
              "      <td>75393376</td>\n",
              "      <td>G</td>\n",
              "      <td>6.0112</td>\n",
              "      <td>3.3614</td>\n",
              "      <td>2.8883</td>\n",
              "      <td>4.0598</td>\n",
              "      <td>4.4318</td>\n",
              "      <td>0.8208</td>\n",
              "      <td>0.7098</td>\n",
              "      <td>-1</td>\n",
              "      <td>G</td>\n",
              "      <td>7.7557</td>\n",
              "      <td>-5.0416</td>\n",
              "      <td>-3.0126</td>\n",
              "      <td>5.0642</td>\n",
              "      <td>5.8731</td>\n",
              "      <td>0.7806</td>\n",
              "      <td>-2.6030</td>\n",
              "      <td>1</td>\n",
              "    </tr>\n",
              "  </tbody>\n",
              "</table>\n",
              "</div>"
            ],
            "text/plain": [
              "      Run     Event type1       E1     px1  ...      pz2     pt2    eta2    phi2  Q2\n",
              "0  165617  75100943     G   6.2039 -4.2666  ...  -5.7104  7.8019 -0.6786 -0.3700   1\n",
              "1  165617  75587682     G  19.2892 -4.2121  ...   8.7985  4.3697  1.4497 -0.1086   1\n",
              "2  165617  75167029     G   9.7583  2.3903  ...  12.0665  6.2039  1.4187  2.1503   1\n",
              "3  165617  75281957     G   9.6365  1.6516  ...   5.1887  4.7366  0.9473  1.9255  -1\n",
              "4  165617  75393376     G   6.0112  3.3614  ...   5.0642  5.8731  0.7806 -2.6030   1\n",
              "\n",
              "[5 rows x 20 columns]"
            ]
          },
          "metadata": {},
          "execution_count": 4
        }
      ]
    },
    {
      "cell_type": "markdown",
      "metadata": {
        "id": "31ksv_UH3hlk"
      },
      "source": [
        "# Crear archivos CSV"
      ]
    },
    {
      "cell_type": "code",
      "metadata": {
        "colab": {
          "base_uri": "https://localhost:8080/",
          "height": 265
        },
        "id": "atWMyEhkTK5g",
        "outputId": "12b4bd37-79bb-46bd-b224-87e983898745"
      },
      "source": [
        "import matplotlib.pyplot as plt\n",
        "import numpy as np\n",
        "import math\n",
        "\n",
        "#función que recibe un vector como argumento (x)\n",
        "def fx(x):\n",
        "    #note que se usa numpy porque se está operando sobre vectores y me regresa un vecor. \n",
        "    return ((x**5)*np.exp(-x))\n",
        "\n",
        "#función que recibe un escalar/numero como argumento (x)\n",
        "def fxUnNumero(x):\n",
        "  if x>=0: \n",
        "    #note que se usa math porque se está operando sobre un único número y me regresa un solo número \n",
        "    return ((x**5)*math.exp(-x))\n",
        "  else: \n",
        "    return 0\n",
        "\n",
        "#función que recibe un vector como parámetro (x), realiza una operación sobre cada número del vector \n",
        "#y escribe el número y el resultado en un archivo. \n",
        "def fxVectorEscribir(x):\n",
        "  fxvector = []\n",
        "  \n",
        "  #abro/creo un archivo en donde se van a guardar los valore. \n",
        "  valoresdelafuncion = open(\"/content/drive/MyDrive/WoRK/BUAP2021/FisicaComputacional/valoresdelafuncion.csv\",\"w\")\n",
        "  #valoresdelafuncion = open(\"valoresdelafuncion.csv\",\"w\")\n",
        "  \n",
        "  #corro sobre cada valor del vector que se recibe como parámetro y escribo en el archivo\n",
        "  for i in np.nditer(x):\n",
        "    fxvector.append(fxUnNumero(i))\n",
        "\n",
        "    linea = str(i)+\", \"+str(fxUnNumero(i))+\"\\n\"\n",
        "    valoresdelafuncion.write(linea)\n",
        "  #cierro el archivo\n",
        "  valoresdelafuncion.close()\n",
        "\n",
        "  return fxvector\n",
        "\n",
        "\n",
        "xintervalo = np.arange(0.0, 5.1, 0.1)\n",
        "fxVectorEscribir(xintervalo)\n",
        "\n",
        "plt.plot(xintervalo, fx(xintervalo))\n",
        "plt.show()\n"
      ],
      "execution_count": 28,
      "outputs": [
        {
          "output_type": "display_data",
          "data": {
            "image/png": "[encoded data removed]",
            "text/plain": [
              "<Figure size 432x288 with 1 Axes>"
            ]
          },
          "metadata": {
            "needs_background": "light"
          }
        }
      ]
    },
    {
      "cell_type": "code",
      "metadata": {
        "colab": {
          "base_uri": "https://localhost:8080/"
        },
        "id": "8DHqrXY-hHPL",
        "outputId": "3b398729-1de0-49b3-d23f-abe5f732b667"
      },
      "source": [
        "%shell\n",
        "!cat valoresdelafuncion.csv | grep 2.1"
      ],
      "execution_count": 30,
      "outputs": [
        {
          "output_type": "stream",
          "name": "stdout",
          "text": [
            "0.2, 0.0002619938409849542\n",
            "0.4, 0.0068640772714049485\n",
            "1.5, 1.694394653627139\n",
            "1.6, 2.117038432527638\n",
            "2.1, 5.001244210844318\n",
            "3.2, 13.677526015622188\n",
            "3.3000000000000003, 14.434372513323165\n",
            "3.5, 15.860231974340845\n",
            "3.7, 17.144271564475766\n"
          ]
        }
      ]
    },
    {
      "cell_type": "markdown",
      "metadata": {
        "id": "eSi2LQheeQiu"
      },
      "source": [
        "# Lectura del archivo"
      ]
    },
    {
      "cell_type": "code",
      "metadata": {
        "colab": {
          "base_uri": "https://localhost:8080/",
          "height": 265
        },
        "id": "JcHmxoI3egmh",
        "outputId": "c63d4863-5e35-4b4b-fd1f-5991fde63439"
      },
      "source": [
        "import matplotlib.pyplot as plt\n",
        "\n",
        "#instrucción para abrir un archivo en modo lectura\n",
        "archivo=open(\"valoresdelafuncion.csv\", \"r\")\n",
        "#se crea un vector de las lineas del archivo. Cada línea una entrada del vector, el tipo de dato es una cadena/string/str \n",
        "lineas = archivo.readlines()\n",
        "\n",
        "#vectores vacíos para almacenar los datos\n",
        "xvalues = []\n",
        "fxvalues = []\n",
        "\n",
        "for x in lineas:\n",
        "  xvalues.append(float(x.split(',')[0]))\n",
        "  fxvalues.append(float(x.split(',')[1]))\n",
        "\n",
        "archivo.close()\n",
        "\n",
        "plt.plot(xvalues, fxvalues)\n",
        "plt.show()"
      ],
      "execution_count": 21,
      "outputs": [
        {
          "output_type": "display_data",
          "data": {
            "image/png": "[encoded data removed]",
            "text/plain": [
              "<Figure size 432x288 with 1 Axes>"
            ]
          },
          "metadata": {
            "needs_background": "light"
          }
        }
      ]
    },
    {
      "cell_type": "markdown",
      "metadata": {
        "id": "7r7KqE81ju_l"
      },
      "source": [
        "# Leer datos y crear un archivo con datos transformados"
      ]
    },
    {
      "cell_type": "code",
      "metadata": {
        "id": "4hdT1fFdj1vi"
      },
      "source": [
        "import math\n",
        "\n",
        "def myfunc(y):\n",
        "  if y >= 0:\n",
        "    return (y**5*math.exp(-y))\n",
        "  else: \n",
        "    return 0\n",
        "\n",
        "archivoentrada = open(\"/content/drive/MyDrive/WoRK/BUAP2021/FisicaComputacional/valoresdelafuncion.csv\", \"r\")\n",
        "archivosalida  = open(\"/content/drive/MyDrive/WoRK/BUAP2021/FisicaComputacional/valoresdesalida.csv\", \"w\")\n",
        "\n",
        "#leer el archivo por linea\n",
        "for line in archivoentrada:\n",
        "  par = line.split(\", \")\n",
        "  x = float(par[0])\n",
        "  y = float(par[1])\n",
        "  fy = myfunc(y)  #transformando el valor\n",
        "  lineaparaescribir=str(x)+\", \"+str(fy)+\"\\n\"\n",
        "  archivosalida.write(lineaparaescribir)\n",
        "\n",
        "archivoentrada.close()\n",
        "archivosalida.close()\n",
        "\n",
        "            \n",
        "\n"
      ],
      "execution_count": 29,
      "outputs": []
    }
  ]
}